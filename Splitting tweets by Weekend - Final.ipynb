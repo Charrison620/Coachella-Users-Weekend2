{
 "cells": [
  {
   "cell_type": "markdown",
   "metadata": {},
   "source": [
    "1. Since the tweets we pulled came from both weekends of Coachella, the first thing we can do to clean this dataset up (and significantly reduce it's size) is to separate the files into week1 and week2 of coachella"
   ]
  },
  {
   "cell_type": "code",
   "execution_count": 22,
   "metadata": {},
   "outputs": [
    {
     "data": {
      "text/plain": [
       "['coachella_tweets20191107_210240.json',\n",
       " 'coachella_tweets20191107_210514.json',\n",
       " 'coachella_tweets20191107_210706.json',\n",
       " 'coachella_tweets20191107_211218.json',\n",
       " 'coachella_tweets20191107_214356.json',\n",
       " 'coachella_tweets20191107_214639.json',\n",
       " 'coachella_tweets20191107_215132.json',\n",
       " 'coachella_tweets20191107_220147.json',\n",
       " 'coachella_tweets20191107_222255.json',\n",
       " 'coachella_tweets20191107_222517.json',\n",
       " 'coachella_tweets20191107_223029.json',\n",
       " 'coachella_tweets20191107_230148.json',\n",
       " 'coachella_tweets20191107_230342.json',\n",
       " 'coachella_tweets20191107_230919.json',\n",
       " 'coachella_tweets20191107_234110.json',\n",
       " 'coachella_tweets20191107_234121.json',\n",
       " 'coachella_tweets20191107_234730.json',\n",
       " 'coachella_tweets20191108_001926.json',\n",
       " 'coachella_tweets20191108_001931.json',\n",
       " 'coachella_tweets20191108_002626.json',\n",
       " 'coachella_tweets20191108_005654.json',\n",
       " 'coachella_tweets20191108_005715.json',\n",
       " 'coachella_tweets20191108_010503.json',\n",
       " 'coachella_tweets20191108_013444.json',\n",
       " 'coachella_tweets20191108_013529.json',\n",
       " 'coachella_tweets20191108_014248.json',\n",
       " 'coachella_tweets20191108_021248.json',\n",
       " 'coachella_tweets20191108_021317.json',\n",
       " 'coachella_tweets20191108_022033.json',\n",
       " 'coachella_tweets20191108_025100.json',\n",
       " 'coachella_tweets20191108_025824.json',\n",
       " 'coachella_tweets20191108_032819.json',\n",
       " 'coachella_tweets20191108_033619.json',\n",
       " 'coachella_tweets20191108_085248.json',\n",
       " 'coachella_tweets20191108_090224.json',\n",
       " 'coachella_tweets20191108_090916.json',\n",
       " 'coachella_tweets20191108_091157.json',\n",
       " 'coachella_tweets20191108_093651.json',\n",
       " 'coachella_tweets20191108_094905.json',\n",
       " 'coachella_tweets20191108_095332.json',\n",
       " 'coachella_tweets20191108_102201.json',\n",
       " 'coachella_tweets20191108_103229.json',\n",
       " 'coachella_tweets20191108_103734.json',\n",
       " 'coachella_tweets20191108_110200.json',\n",
       " 'coachella_tweets20191108_111154.json',\n",
       " 'coachella_tweets20191108_111638.json',\n",
       " 'coachella_tweets20191108_114109.json',\n",
       " 'coachella_tweets20191108_115050.json',\n",
       " 'coachella_tweets20191108_115608.json',\n",
       " 'coachella_tweets20191108_122009.json',\n",
       " 'coachella_tweets20191108_122953.json',\n",
       " 'coachella_tweets20191108_123506.json',\n",
       " 'coachella_tweets20191108_125953.json',\n",
       " 'coachella_tweets20191108_130911.json',\n",
       " 'coachella_tweets20191108_131439.json',\n",
       " 'coachella_tweets20191108_134023.json',\n",
       " 'coachella_tweets20191108_135535.json',\n",
       " 'coachella_tweets20191108_140148.json',\n",
       " 'coachella_tweets20191108_142747.json',\n",
       " 'coachella_tweets20191108_143650.json',\n",
       " 'coachella_tweets20191108_144301.json',\n",
       " 'coachella_tweets20191108_150829.json',\n",
       " 'coachella_tweets20191108_151124.json',\n",
       " 'coachella_tweets20191108_151845.json',\n",
       " 'coachella_tweets20191108_152436.json',\n",
       " 'coachella_tweets20191108_163527.json',\n",
       " 'coachella_tweets20191108_164259.json',\n",
       " 'coachella_tweets20191108_172047.json',\n",
       " 'coachella_tweets20191108_180752.json',\n",
       " 'coachella_tweets20191108_184749.json',\n",
       " 'coachella_tweets20191108_190058.json']"
      ]
     },
     "execution_count": 22,
     "metadata": {},
     "output_type": "execute_result"
    }
   ],
   "source": [
    "import os\n",
    "import json\n",
    "from os import listdir\n",
    "from os.path import isfile, join\n",
    "\n",
    "folder = os.path.join('C:/', 'users', 'charr', 'documents')\n",
    "\n",
    "get_files = [f for f in listdir(folder) if isfile(join(folder, f))]\n",
    "get_files"
   ]
  },
  {
   "cell_type": "markdown",
   "metadata": {},
   "source": [
    "2. Similar to how we got the start/end dates while gathering the tweets we can use the same method to set boundries for each weekend"
   ]
  },
  {
   "cell_type": "code",
   "execution_count": 23,
   "metadata": {},
   "outputs": [],
   "source": [
    "import datetime\n",
    "def get_tweet_timestamp(tid):\n",
    "    offset = 1288834974657\n",
    "    tstamp = (tid >> 22) + offset\n",
    "    utcdttime = datetime.datetime.fromtimestamp(tstamp/1000, tz=datetime.timezone.utc)\n",
    "    return utcdttime\n",
    "    "
   ]
  },
  {
   "cell_type": "code",
   "execution_count": 24,
   "metadata": {},
   "outputs": [],
   "source": [
    "coachella_start_date_weekend2 = get_tweet_timestamp(1119106217190629378)\n",
    "coachella_end_date_weekend2 = get_tweet_timestamp(1120182057383022594)\n",
    "coachella_start_date_weekend1 = get_tweet_timestamp(1116479450026106880)\n",
    "coachella_end_date_weekend1 = get_tweet_timestamp(1117646057750405120)"
   ]
  },
  {
   "cell_type": "code",
   "execution_count": 25,
   "metadata": {},
   "outputs": [
    {
     "data": {
      "text/plain": [
       "datetime.datetime(2019, 4, 11, 23, 13, 38, 728000, tzinfo=datetime.timezone.utc)"
      ]
     },
     "execution_count": 25,
     "metadata": {},
     "output_type": "execute_result"
    }
   ],
   "source": [
    "coachella_start_date_weekend1"
   ]
  },
  {
   "cell_type": "markdown",
   "metadata": {},
   "source": [
    "3. for each json file read in we can clear any empty/midweek tweets and then write that dictionary out to a new json files"
   ]
  },
  {
   "cell_type": "code",
   "execution_count": null,
   "metadata": {},
   "outputs": [],
   "source": [
    "# clear_empty_users can be\n",
    "# {k:v for k,v in dct.items() if v}\n",
    "\n",
    "# Maybe consider a print report in get_weekend_specific_tweets\n",
    "# X tweets weekend 1, Y tweets weekend 2, Z tweets removed\n",
    "# You may be better off getting the tweet timestamp from the snowflake ID instead of the created_at time\n"
   ]
  },
  {
   "cell_type": "code",
   "execution_count": null,
   "metadata": {},
   "outputs": [],
   "source": []
  },
  {
   "cell_type": "code",
   "execution_count": 26,
   "metadata": {},
   "outputs": [],
   "source": [
    "def clear_empty_users(dct):\n",
    "    new_dct = {}\n",
    "    for user, tweet_list in dct.items():\n",
    "        if tweet_list != []:\n",
    "            new_dct[user] = tweet_list\n",
    "    return new_dct\n",
    "\n",
    "def get_weekend_specific_tweets(dct):\n",
    "    weekend_1_dct = {}\n",
    "    weekend_2_dct = {}\n",
    "    for user, tweet_list in dct.items():\n",
    "        new_tweet_list_weekend_1 = []\n",
    "        new_tweet_list_weekend_2 = []\n",
    "        for tweet in tweet_list:\n",
    "            tweet_time = datetime.datetime.strptime(tweet['created_at'], '%a %b %d %H:%M:%S %z %Y')\n",
    "            if coachella_end_date_weekend1 >= tweet_time:\n",
    "                new_tweet_list_weekend_1.append(tweet)\n",
    "            elif coachella_start_date_weekend2 <= tweet_time:\n",
    "                new_tweet_list_weekend_2.append(tweet)\n",
    "            else:\n",
    "                continue\n",
    "                \n",
    "        weekend_1_dct[user] = new_tweet_list_weekend_1\n",
    "        weekend_2_dct[user] = new_tweet_list_weekend_2\n",
    "        \n",
    "    return weekend_1_dct, weekend_2_dct\n",
    "\n",
    "def open_file(file_name):\n",
    "    with open(os.path.join(folder, file_name), mode = 'r', encoding = 'utf8') as reader:\n",
    "        dct = json.load(reader)\n",
    "    return dct\n",
    "\n",
    "def save_tweet_dict(dct, label):\n",
    "    file_suffix = datetime.datetime.now().strftime('%Y%m%d_%H%M%S')\n",
    "    filename = f'coachella_tweets_weekend_{label} ' + file_suffix + '.json'\n",
    "    filepath = os.path.join(folder, filename)\n",
    "    with open(filepath, mode='w', encoding = 'utf-8') as f:\n",
    "        json.dump(dct, f)\n"
   ]
  },
  {
   "cell_type": "code",
   "execution_count": 27,
   "metadata": {},
   "outputs": [
    {
     "name": "stdout",
     "output_type": "stream",
     "text": [
      "coachella_tweets20191107_210240.json\n",
      "coachella_tweets20191107_210514.json\n",
      "coachella_tweets20191107_210706.json\n",
      "coachella_tweets20191107_211218.json\n",
      "coachella_tweets20191107_214356.json\n",
      "coachella_tweets20191107_214639.json\n",
      "coachella_tweets20191107_215132.json\n",
      "coachella_tweets20191107_220147.json\n",
      "coachella_tweets20191107_222255.json\n",
      "coachella_tweets20191107_222517.json\n",
      "coachella_tweets20191107_223029.json\n",
      "coachella_tweets20191107_230148.json\n",
      "coachella_tweets20191107_230342.json\n",
      "coachella_tweets20191107_230919.json\n",
      "coachella_tweets20191107_234110.json\n",
      "coachella_tweets20191107_234121.json\n",
      "coachella_tweets20191107_234730.json\n",
      "coachella_tweets20191108_001926.json\n",
      "coachella_tweets20191108_001931.json\n",
      "coachella_tweets20191108_002626.json\n",
      "coachella_tweets20191108_005654.json\n",
      "coachella_tweets20191108_005715.json\n",
      "coachella_tweets20191108_010503.json\n",
      "coachella_tweets20191108_013444.json\n",
      "coachella_tweets20191108_013529.json\n",
      "coachella_tweets20191108_014248.json\n",
      "coachella_tweets20191108_021248.json\n",
      "coachella_tweets20191108_021317.json\n",
      "coachella_tweets20191108_022033.json\n",
      "coachella_tweets20191108_025100.json\n",
      "coachella_tweets20191108_025824.json\n",
      "coachella_tweets20191108_032819.json\n",
      "coachella_tweets20191108_033619.json\n",
      "coachella_tweets20191108_085248.json\n",
      "coachella_tweets20191108_090224.json\n",
      "coachella_tweets20191108_090916.json\n",
      "coachella_tweets20191108_091157.json\n",
      "coachella_tweets20191108_093651.json\n",
      "coachella_tweets20191108_094905.json\n",
      "coachella_tweets20191108_095332.json\n",
      "coachella_tweets20191108_102201.json\n",
      "coachella_tweets20191108_103229.json\n",
      "coachella_tweets20191108_103734.json\n",
      "coachella_tweets20191108_110200.json\n",
      "coachella_tweets20191108_111154.json\n",
      "coachella_tweets20191108_111638.json\n",
      "coachella_tweets20191108_114109.json\n",
      "coachella_tweets20191108_115050.json\n",
      "coachella_tweets20191108_115608.json\n",
      "coachella_tweets20191108_122009.json\n",
      "coachella_tweets20191108_122953.json\n",
      "coachella_tweets20191108_123506.json\n",
      "coachella_tweets20191108_125953.json\n",
      "coachella_tweets20191108_130911.json\n",
      "coachella_tweets20191108_131439.json\n",
      "coachella_tweets20191108_134023.json\n",
      "coachella_tweets20191108_135535.json\n",
      "coachella_tweets20191108_140148.json\n",
      "coachella_tweets20191108_142747.json\n",
      "coachella_tweets20191108_143650.json\n",
      "coachella_tweets20191108_144301.json\n",
      "coachella_tweets20191108_150829.json\n",
      "coachella_tweets20191108_151124.json\n",
      "coachella_tweets20191108_151845.json\n",
      "coachella_tweets20191108_152436.json\n",
      "coachella_tweets20191108_163527.json\n",
      "coachella_tweets20191108_164259.json\n",
      "coachella_tweets20191108_172047.json\n",
      "coachella_tweets20191108_180752.json\n",
      "coachella_tweets20191108_184749.json\n",
      "coachella_tweets20191108_190058.json\n"
     ]
    }
   ],
   "source": [
    "for f in get_files:\n",
    "    weekend_1_dct, weekend_2_dct = get_weekend_specific_tweets(clear_empty_users(open_file(f)))\n",
    "    save_tweet_dict(clear_empty_users(weekend_1_dct), '1')\n",
    "    save_tweet_dict(clear_empty_users(weekend_2_dct), '2')\n",
    "    print(f) #for progress report\n"
   ]
  },
  {
   "cell_type": "markdown",
   "metadata": {},
   "source": [
    "4. Now we need to group the all the mini datasets into a single master json file (also eliminates any accidental user duplicates that may have occured during the get_tweet portion)"
   ]
  },
  {
   "cell_type": "code",
   "execution_count": 61,
   "metadata": {},
   "outputs": [],
   "source": [
    "def save_master_tweet_dict(dct):\n",
    "    #file_suffix = datetime.datetime.now().strftime('%Y%m%d_%H%M%S')\n",
    "    #filename = f'coachella_tweets_weekend_{label} ' + file_suffix + '.json'\n",
    "    filepath = os.path.join(folder, 'coachella_tweets_master_1.json')\n",
    "    with open(filepath, mode='w', encoding = 'utf-8') as f:\n",
    "        json.dump(dct, f)\n",
    "\n",
    "def merge_datasets(master_file, file_to_add):\n",
    "    master = open_file(master_file)\n",
    "    add = open_file(file_to_add)\n",
    "    new_master = {**master, **add}\n",
    "    save_master_tweet_dict(new_master, )\n",
    "    print(f, sep = '', end='')\n",
    "    "
   ]
  },
  {
   "cell_type": "code",
   "execution_count": 35,
   "metadata": {},
   "outputs": [],
   "source": [
    "master = open_file('coachella_tweets_master.json')"
   ]
  },
  {
   "cell_type": "code",
   "execution_count": 36,
   "metadata": {},
   "outputs": [],
   "source": [
    "add = open_file('coachella_tweets_weekend_2 20191107_195720.json')"
   ]
  },
  {
   "cell_type": "code",
   "execution_count": 40,
   "metadata": {},
   "outputs": [],
   "source": [
    "new_master = {**master, **add}"
   ]
  },
  {
   "cell_type": "code",
   "execution_count": 38,
   "metadata": {},
   "outputs": [
    {
     "data": {
      "text/plain": [
       "dict"
      ]
     },
     "execution_count": 38,
     "metadata": {},
     "output_type": "execute_result"
    }
   ],
   "source": [
    "type(add)"
   ]
  },
  {
   "cell_type": "code",
   "execution_count": 44,
   "metadata": {},
   "outputs": [],
   "source": [
    "folder = os.path.join('C:/', 'users', 'charr', 'documents', 'Weekend 2') #weekend 2 folder\n",
    "\n",
    "get_files = [f for f in listdir(folder) if isfile(join(folder, f))]\n",
    "\n",
    "\n",
    "#folder = os.path.join('C:/', 'users', 'charr', 'documents', 'Weekend 1') #weekend 2 folder\n",
    "#merge_datasets('coachella_tweets_master.json', [f for f in listdir(folder) if isfile(join(folder, f))])\n"
   ]
  },
  {
   "cell_type": "code",
   "execution_count": 45,
   "metadata": {},
   "outputs": [
    {
     "name": "stdout",
     "output_type": "stream",
     "text": [
      "............................................................................................................."
     ]
    },
    {
     "ename": "KeyboardInterrupt",
     "evalue": "",
     "output_type": "error",
     "traceback": [
      "\u001b[1;31m---------------------------------------------------------------------------\u001b[0m",
      "\u001b[1;31mKeyboardInterrupt\u001b[0m                         Traceback (most recent call last)",
      "\u001b[1;32m<ipython-input-45-e935fe2cf927>\u001b[0m in \u001b[0;36m<module>\u001b[1;34m\u001b[0m\n\u001b[0;32m      1\u001b[0m \u001b[1;32mfor\u001b[0m \u001b[0mf\u001b[0m \u001b[1;32min\u001b[0m \u001b[0mget_files\u001b[0m\u001b[1;33m:\u001b[0m\u001b[1;33m\u001b[0m\u001b[1;33m\u001b[0m\u001b[0m\n\u001b[1;32m----> 2\u001b[1;33m     \u001b[0mmerge_datasets\u001b[0m\u001b[1;33m(\u001b[0m\u001b[1;34m'coachella_tweets_master.json'\u001b[0m\u001b[1;33m,\u001b[0m \u001b[0mf\u001b[0m\u001b[1;33m)\u001b[0m\u001b[1;33m\u001b[0m\u001b[1;33m\u001b[0m\u001b[0m\n\u001b[0m",
      "\u001b[1;32m<ipython-input-43-839587bf108f>\u001b[0m in \u001b[0;36mmerge_datasets\u001b[1;34m(master_file, file_to_add)\u001b[0m\n\u001b[0;32m     10\u001b[0m     \u001b[0madd\u001b[0m \u001b[1;33m=\u001b[0m \u001b[0mopen_file\u001b[0m\u001b[1;33m(\u001b[0m\u001b[0mfile_to_add\u001b[0m\u001b[1;33m)\u001b[0m\u001b[1;33m\u001b[0m\u001b[1;33m\u001b[0m\u001b[0m\n\u001b[0;32m     11\u001b[0m     \u001b[0mnew_master\u001b[0m \u001b[1;33m=\u001b[0m \u001b[1;33m{\u001b[0m\u001b[1;33m**\u001b[0m\u001b[0mmaster\u001b[0m\u001b[1;33m,\u001b[0m \u001b[1;33m**\u001b[0m\u001b[0madd\u001b[0m\u001b[1;33m}\u001b[0m\u001b[1;33m\u001b[0m\u001b[1;33m\u001b[0m\u001b[0m\n\u001b[1;32m---> 12\u001b[1;33m     \u001b[0msave_master_tweet_dict\u001b[0m\u001b[1;33m(\u001b[0m\u001b[0mnew_master\u001b[0m\u001b[1;33m,\u001b[0m \u001b[1;33m)\u001b[0m\u001b[1;33m\u001b[0m\u001b[1;33m\u001b[0m\u001b[0m\n\u001b[0m\u001b[0;32m     13\u001b[0m     \u001b[0mprint\u001b[0m\u001b[1;33m(\u001b[0m\u001b[1;34m'.'\u001b[0m\u001b[1;33m,\u001b[0m \u001b[0msep\u001b[0m \u001b[1;33m=\u001b[0m \u001b[1;34m''\u001b[0m\u001b[1;33m,\u001b[0m \u001b[0mend\u001b[0m\u001b[1;33m=\u001b[0m\u001b[1;34m''\u001b[0m\u001b[1;33m)\u001b[0m\u001b[1;33m\u001b[0m\u001b[1;33m\u001b[0m\u001b[0m\n\u001b[0;32m     14\u001b[0m \u001b[1;33m\u001b[0m\u001b[0m\n",
      "\u001b[1;32m<ipython-input-43-839587bf108f>\u001b[0m in \u001b[0;36msave_master_tweet_dict\u001b[1;34m(dct)\u001b[0m\n\u001b[0;32m      4\u001b[0m     \u001b[0mfilepath\u001b[0m \u001b[1;33m=\u001b[0m \u001b[0mos\u001b[0m\u001b[1;33m.\u001b[0m\u001b[0mpath\u001b[0m\u001b[1;33m.\u001b[0m\u001b[0mjoin\u001b[0m\u001b[1;33m(\u001b[0m\u001b[0mfolder\u001b[0m\u001b[1;33m,\u001b[0m \u001b[1;34m'coachella_tweets_master.json'\u001b[0m\u001b[1;33m)\u001b[0m\u001b[1;33m\u001b[0m\u001b[1;33m\u001b[0m\u001b[0m\n\u001b[0;32m      5\u001b[0m     \u001b[1;32mwith\u001b[0m \u001b[0mopen\u001b[0m\u001b[1;33m(\u001b[0m\u001b[0mfilepath\u001b[0m\u001b[1;33m,\u001b[0m \u001b[0mmode\u001b[0m\u001b[1;33m=\u001b[0m\u001b[1;34m'w'\u001b[0m\u001b[1;33m,\u001b[0m \u001b[0mencoding\u001b[0m \u001b[1;33m=\u001b[0m \u001b[1;34m'utf-8'\u001b[0m\u001b[1;33m)\u001b[0m \u001b[1;32mas\u001b[0m \u001b[0mf\u001b[0m\u001b[1;33m:\u001b[0m\u001b[1;33m\u001b[0m\u001b[1;33m\u001b[0m\u001b[0m\n\u001b[1;32m----> 6\u001b[1;33m         \u001b[0mjson\u001b[0m\u001b[1;33m.\u001b[0m\u001b[0mdump\u001b[0m\u001b[1;33m(\u001b[0m\u001b[0mdct\u001b[0m\u001b[1;33m,\u001b[0m \u001b[0mf\u001b[0m\u001b[1;33m)\u001b[0m\u001b[1;33m\u001b[0m\u001b[1;33m\u001b[0m\u001b[0m\n\u001b[0m\u001b[0;32m      7\u001b[0m \u001b[1;33m\u001b[0m\u001b[0m\n\u001b[0;32m      8\u001b[0m \u001b[1;32mdef\u001b[0m \u001b[0mmerge_datasets\u001b[0m\u001b[1;33m(\u001b[0m\u001b[0mmaster_file\u001b[0m\u001b[1;33m,\u001b[0m \u001b[0mfile_to_add\u001b[0m\u001b[1;33m)\u001b[0m\u001b[1;33m:\u001b[0m\u001b[1;33m\u001b[0m\u001b[1;33m\u001b[0m\u001b[0m\n",
      "\u001b[1;32mc:\\Users\\charr\\Anaconda3\\lib\\json\\__init__.py\u001b[0m in \u001b[0;36mdump\u001b[1;34m(obj, fp, skipkeys, ensure_ascii, check_circular, allow_nan, cls, indent, separators, default, sort_keys, **kw)\u001b[0m\n\u001b[0;32m    178\u001b[0m     \u001b[1;31m# a debuggability cost\u001b[0m\u001b[1;33m\u001b[0m\u001b[1;33m\u001b[0m\u001b[1;33m\u001b[0m\u001b[0m\n\u001b[0;32m    179\u001b[0m     \u001b[1;32mfor\u001b[0m \u001b[0mchunk\u001b[0m \u001b[1;32min\u001b[0m \u001b[0miterable\u001b[0m\u001b[1;33m:\u001b[0m\u001b[1;33m\u001b[0m\u001b[1;33m\u001b[0m\u001b[0m\n\u001b[1;32m--> 180\u001b[1;33m         \u001b[0mfp\u001b[0m\u001b[1;33m.\u001b[0m\u001b[0mwrite\u001b[0m\u001b[1;33m(\u001b[0m\u001b[0mchunk\u001b[0m\u001b[1;33m)\u001b[0m\u001b[1;33m\u001b[0m\u001b[1;33m\u001b[0m\u001b[0m\n\u001b[0m\u001b[0;32m    181\u001b[0m \u001b[1;33m\u001b[0m\u001b[0m\n\u001b[0;32m    182\u001b[0m \u001b[1;33m\u001b[0m\u001b[0m\n",
      "\u001b[1;31mKeyboardInterrupt\u001b[0m: "
     ]
    }
   ],
   "source": [
    "for f in get_files:\n",
    "    merge_datasets('coachella_tweets_master.json', f)"
   ]
  },
  {
   "cell_type": "markdown",
   "metadata": {},
   "source": [
    "From here we have our base datasets for both weekends that we can really begin to preprocess!!"
   ]
  },
  {
   "cell_type": "code",
   "execution_count": 46,
   "metadata": {},
   "outputs": [],
   "source": [
    "done = '.............................................................................................................'"
   ]
  },
  {
   "cell_type": "code",
   "execution_count": 47,
   "metadata": {},
   "outputs": [
    {
     "data": {
      "text/plain": [
       "109"
      ]
     },
     "execution_count": 47,
     "metadata": {},
     "output_type": "execute_result"
    }
   ],
   "source": [
    "len(done)"
   ]
  },
  {
   "cell_type": "code",
   "execution_count": 54,
   "metadata": {},
   "outputs": [],
   "source": [
    "get_files_2 = get_files[109:]"
   ]
  },
  {
   "cell_type": "code",
   "execution_count": 55,
   "metadata": {},
   "outputs": [
    {
     "data": {
      "text/plain": [
       "80"
      ]
     },
     "execution_count": 55,
     "metadata": {},
     "output_type": "execute_result"
    }
   ],
   "source": [
    "len(get_files_2)"
   ]
  },
  {
   "cell_type": "code",
   "execution_count": 56,
   "metadata": {},
   "outputs": [],
   "source": [
    "get_files_3 = get_files_2[:40]"
   ]
  },
  {
   "cell_type": "code",
   "execution_count": 57,
   "metadata": {},
   "outputs": [],
   "source": [
    "get_files_2 = get_files_2[40:]"
   ]
  },
  {
   "cell_type": "code",
   "execution_count": 60,
   "metadata": {},
   "outputs": [
    {
     "data": {
      "text/plain": [
       "['coachella_tweets_weekend_2 20191108_193454.json',\n",
       " 'coachella_tweets_weekend_2 20191108_193510.json',\n",
       " 'coachella_tweets_weekend_2 20191108_193522.json',\n",
       " 'coachella_tweets_weekend_2 20191108_193535.json',\n",
       " 'coachella_tweets_weekend_2 20191108_193549.json',\n",
       " 'coachella_tweets_weekend_2 20191108_193606.json',\n",
       " 'coachella_tweets_weekend_2 20191108_193620.json',\n",
       " 'coachella_tweets_weekend_2 20191108_193637.json',\n",
       " 'coachella_tweets_weekend_2 20191108_193654.json',\n",
       " 'coachella_tweets_weekend_2 20191108_193712.json',\n",
       " 'coachella_tweets_weekend_2 20191108_193727.json',\n",
       " 'coachella_tweets_weekend_2 20191108_193743.json',\n",
       " 'coachella_tweets_weekend_2 20191108_193758.json',\n",
       " 'coachella_tweets_weekend_2 20191108_193813.json',\n",
       " 'coachella_tweets_weekend_2 20191108_193829.json',\n",
       " 'coachella_tweets_weekend_2 20191108_193846.json',\n",
       " 'coachella_tweets_weekend_2 20191108_193903.json',\n",
       " 'coachella_tweets_weekend_2 20191108_193919.json',\n",
       " 'coachella_tweets_weekend_2 20191108_193935.json',\n",
       " 'coachella_tweets_weekend_2 20191108_193951.json',\n",
       " 'coachella_tweets_weekend_2 20191108_194007.json',\n",
       " 'coachella_tweets_weekend_2 20191108_194024.json',\n",
       " 'coachella_tweets_weekend_2 20191108_194040.json',\n",
       " 'coachella_tweets_weekend_2 20191108_194058.json',\n",
       " 'coachella_tweets_weekend_2 20191108_194113.json',\n",
       " 'coachella_tweets_weekend_2 20191108_194127.json',\n",
       " 'coachella_tweets_weekend_2 20191108_194146.json',\n",
       " 'coachella_tweets_weekend_2 20191108_194204.json',\n",
       " 'coachella_tweets_weekend_2 20191108_194221.json',\n",
       " 'coachella_tweets_weekend_2 20191108_194237.json',\n",
       " 'coachella_tweets_weekend_2 20191108_194254.json',\n",
       " 'coachella_tweets_weekend_2 20191108_194259.json',\n",
       " 'coachella_tweets_weekend_2 20191108_194311.json',\n",
       " 'coachella_tweets_weekend_2 20191108_194327.json',\n",
       " 'coachella_tweets_weekend_2 20191108_194343.json',\n",
       " 'coachella_tweets_weekend_2 20191108_194357.json',\n",
       " 'coachella_tweets_weekend_2 20191108_194413.json',\n",
       " 'coachella_tweets_weekend_2 20191108_194430.json',\n",
       " 'coachella_tweets_weekend_2 20191108_194447.json',\n",
       " 'coachella_tweets_weekend_2 20191108_194453.json']"
      ]
     },
     "execution_count": 60,
     "metadata": {},
     "output_type": "execute_result"
    }
   ],
   "source": [
    "get_files_2"
   ]
  },
  {
   "cell_type": "code",
   "execution_count": 59,
   "metadata": {},
   "outputs": [
    {
     "data": {
      "text/plain": [
       "['coachella_tweets_weekend_2 20191107_203604.json',\n",
       " 'coachella_tweets_weekend_2 20191107_203620.json',\n",
       " 'coachella_tweets_weekend_2 20191107_203633.json',\n",
       " 'coachella_tweets_weekend_2 20191107_203649.json',\n",
       " 'coachella_tweets_weekend_2 20191107_203704.json',\n",
       " 'coachella_tweets_weekend_2 20191107_203719.json',\n",
       " 'coachella_tweets_weekend_2 20191107_203735.json',\n",
       " 'coachella_tweets_weekend_2 20191107_203749.json',\n",
       " 'coachella_tweets_weekend_2 20191107_203805.json',\n",
       " 'coachella_tweets_weekend_2 20191108_192651.json',\n",
       " 'coachella_tweets_weekend_2 20191108_192707.json',\n",
       " 'coachella_tweets_weekend_2 20191108_192722.json',\n",
       " 'coachella_tweets_weekend_2 20191108_192737.json',\n",
       " 'coachella_tweets_weekend_2 20191108_192751.json',\n",
       " 'coachella_tweets_weekend_2 20191108_192805.json',\n",
       " 'coachella_tweets_weekend_2 20191108_192821.json',\n",
       " 'coachella_tweets_weekend_2 20191108_192838.json',\n",
       " 'coachella_tweets_weekend_2 20191108_192855.json',\n",
       " 'coachella_tweets_weekend_2 20191108_192909.json',\n",
       " 'coachella_tweets_weekend_2 20191108_192924.json',\n",
       " 'coachella_tweets_weekend_2 20191108_192940.json',\n",
       " 'coachella_tweets_weekend_2 20191108_192956.json',\n",
       " 'coachella_tweets_weekend_2 20191108_193011.json',\n",
       " 'coachella_tweets_weekend_2 20191108_193027.json',\n",
       " 'coachella_tweets_weekend_2 20191108_193041.json',\n",
       " 'coachella_tweets_weekend_2 20191108_193056.json',\n",
       " 'coachella_tweets_weekend_2 20191108_193112.json',\n",
       " 'coachella_tweets_weekend_2 20191108_193127.json',\n",
       " 'coachella_tweets_weekend_2 20191108_193145.json',\n",
       " 'coachella_tweets_weekend_2 20191108_193201.json',\n",
       " 'coachella_tweets_weekend_2 20191108_193216.json',\n",
       " 'coachella_tweets_weekend_2 20191108_193232.json',\n",
       " 'coachella_tweets_weekend_2 20191108_193246.json',\n",
       " 'coachella_tweets_weekend_2 20191108_193301.json',\n",
       " 'coachella_tweets_weekend_2 20191108_193317.json',\n",
       " 'coachella_tweets_weekend_2 20191108_193332.json',\n",
       " 'coachella_tweets_weekend_2 20191108_193348.json',\n",
       " 'coachella_tweets_weekend_2 20191108_193405.json',\n",
       " 'coachella_tweets_weekend_2 20191108_193422.json',\n",
       " 'coachella_tweets_weekend_2 20191108_193439.json']"
      ]
     },
     "execution_count": 59,
     "metadata": {},
     "output_type": "execute_result"
    }
   ],
   "source": [
    "get_files_3"
   ]
  },
  {
   "cell_type": "code",
   "execution_count": 65,
   "metadata": {},
   "outputs": [
    {
     "name": "stdout",
     "output_type": "stream",
     "text": [
      "coachella_tweets_weekend_2 20191108_193454.jsoncoachella_tweets_weekend_2 20191108_193510.jsoncoachella_tweets_weekend_2 20191108_193522.jsoncoachella_tweets_weekend_2 20191108_193535.jsoncoachella_tweets_weekend_2 20191108_193549.jsoncoachella_tweets_weekend_2 20191108_193606.jsoncoachella_tweets_weekend_2 20191108_193620.jsoncoachella_tweets_weekend_2 20191108_193637.jsoncoachella_tweets_weekend_2 20191108_193654.jsoncoachella_tweets_weekend_2 20191108_193712.jsoncoachella_tweets_weekend_2 20191108_193727.jsoncoachella_tweets_weekend_2 20191108_193743.jsoncoachella_tweets_weekend_2 20191108_193758.jsoncoachella_tweets_weekend_2 20191108_193813.jsoncoachella_tweets_weekend_2 20191108_193829.jsoncoachella_tweets_weekend_2 20191108_193846.jsoncoachella_tweets_weekend_2 20191108_193903.jsoncoachella_tweets_weekend_2 20191108_193919.jsoncoachella_tweets_weekend_2 20191108_193935.jsoncoachella_tweets_weekend_2 20191108_193951.jsoncoachella_tweets_weekend_2 20191108_194007.jsoncoachella_tweets_weekend_2 20191108_194024.json"
     ]
    },
    {
     "ename": "KeyboardInterrupt",
     "evalue": "",
     "output_type": "error",
     "traceback": [
      "\u001b[1;31m---------------------------------------------------------------------------\u001b[0m",
      "\u001b[1;31mKeyboardInterrupt\u001b[0m                         Traceback (most recent call last)",
      "\u001b[1;32m<ipython-input-65-02660732d9cf>\u001b[0m in \u001b[0;36m<module>\u001b[1;34m\u001b[0m\n\u001b[0;32m      1\u001b[0m \u001b[1;32mfor\u001b[0m \u001b[0mf\u001b[0m \u001b[1;32min\u001b[0m \u001b[0mget_files_2\u001b[0m\u001b[1;33m:\u001b[0m\u001b[1;33m\u001b[0m\u001b[1;33m\u001b[0m\u001b[0m\n\u001b[1;32m----> 2\u001b[1;33m     \u001b[0mmerge_datasets\u001b[0m\u001b[1;33m(\u001b[0m\u001b[1;34m'coachella_tweets_master_1.json'\u001b[0m\u001b[1;33m,\u001b[0m \u001b[0mf\u001b[0m\u001b[1;33m)\u001b[0m\u001b[1;33m\u001b[0m\u001b[1;33m\u001b[0m\u001b[0m\n\u001b[0m",
      "\u001b[1;32m<ipython-input-61-158a150b57c3>\u001b[0m in \u001b[0;36mmerge_datasets\u001b[1;34m(master_file, file_to_add)\u001b[0m\n\u001b[0;32m     10\u001b[0m     \u001b[0madd\u001b[0m \u001b[1;33m=\u001b[0m \u001b[0mopen_file\u001b[0m\u001b[1;33m(\u001b[0m\u001b[0mfile_to_add\u001b[0m\u001b[1;33m)\u001b[0m\u001b[1;33m\u001b[0m\u001b[1;33m\u001b[0m\u001b[0m\n\u001b[0;32m     11\u001b[0m     \u001b[0mnew_master\u001b[0m \u001b[1;33m=\u001b[0m \u001b[1;33m{\u001b[0m\u001b[1;33m**\u001b[0m\u001b[0mmaster\u001b[0m\u001b[1;33m,\u001b[0m \u001b[1;33m**\u001b[0m\u001b[0madd\u001b[0m\u001b[1;33m}\u001b[0m\u001b[1;33m\u001b[0m\u001b[1;33m\u001b[0m\u001b[0m\n\u001b[1;32m---> 12\u001b[1;33m     \u001b[0msave_master_tweet_dict\u001b[0m\u001b[1;33m(\u001b[0m\u001b[0mnew_master\u001b[0m\u001b[1;33m,\u001b[0m \u001b[1;33m)\u001b[0m\u001b[1;33m\u001b[0m\u001b[1;33m\u001b[0m\u001b[0m\n\u001b[0m\u001b[0;32m     13\u001b[0m     \u001b[0mprint\u001b[0m\u001b[1;33m(\u001b[0m\u001b[0mf\u001b[0m\u001b[1;33m,\u001b[0m \u001b[0msep\u001b[0m \u001b[1;33m=\u001b[0m \u001b[1;34m''\u001b[0m\u001b[1;33m,\u001b[0m \u001b[0mend\u001b[0m\u001b[1;33m=\u001b[0m\u001b[1;34m''\u001b[0m\u001b[1;33m)\u001b[0m\u001b[1;33m\u001b[0m\u001b[1;33m\u001b[0m\u001b[0m\n\u001b[0;32m     14\u001b[0m \u001b[1;33m\u001b[0m\u001b[0m\n",
      "\u001b[1;32m<ipython-input-61-158a150b57c3>\u001b[0m in \u001b[0;36msave_master_tweet_dict\u001b[1;34m(dct)\u001b[0m\n\u001b[0;32m      4\u001b[0m     \u001b[0mfilepath\u001b[0m \u001b[1;33m=\u001b[0m \u001b[0mos\u001b[0m\u001b[1;33m.\u001b[0m\u001b[0mpath\u001b[0m\u001b[1;33m.\u001b[0m\u001b[0mjoin\u001b[0m\u001b[1;33m(\u001b[0m\u001b[0mfolder\u001b[0m\u001b[1;33m,\u001b[0m \u001b[1;34m'coachella_tweets_master_1.json'\u001b[0m\u001b[1;33m)\u001b[0m\u001b[1;33m\u001b[0m\u001b[1;33m\u001b[0m\u001b[0m\n\u001b[0;32m      5\u001b[0m     \u001b[1;32mwith\u001b[0m \u001b[0mopen\u001b[0m\u001b[1;33m(\u001b[0m\u001b[0mfilepath\u001b[0m\u001b[1;33m,\u001b[0m \u001b[0mmode\u001b[0m\u001b[1;33m=\u001b[0m\u001b[1;34m'w'\u001b[0m\u001b[1;33m,\u001b[0m \u001b[0mencoding\u001b[0m \u001b[1;33m=\u001b[0m \u001b[1;34m'utf-8'\u001b[0m\u001b[1;33m)\u001b[0m \u001b[1;32mas\u001b[0m \u001b[0mf\u001b[0m\u001b[1;33m:\u001b[0m\u001b[1;33m\u001b[0m\u001b[1;33m\u001b[0m\u001b[0m\n\u001b[1;32m----> 6\u001b[1;33m         \u001b[0mjson\u001b[0m\u001b[1;33m.\u001b[0m\u001b[0mdump\u001b[0m\u001b[1;33m(\u001b[0m\u001b[0mdct\u001b[0m\u001b[1;33m,\u001b[0m \u001b[0mf\u001b[0m\u001b[1;33m)\u001b[0m\u001b[1;33m\u001b[0m\u001b[1;33m\u001b[0m\u001b[0m\n\u001b[0m\u001b[0;32m      7\u001b[0m \u001b[1;33m\u001b[0m\u001b[0m\n\u001b[0;32m      8\u001b[0m \u001b[1;32mdef\u001b[0m \u001b[0mmerge_datasets\u001b[0m\u001b[1;33m(\u001b[0m\u001b[0mmaster_file\u001b[0m\u001b[1;33m,\u001b[0m \u001b[0mfile_to_add\u001b[0m\u001b[1;33m)\u001b[0m\u001b[1;33m:\u001b[0m\u001b[1;33m\u001b[0m\u001b[1;33m\u001b[0m\u001b[0m\n",
      "\u001b[1;32mc:\\Users\\charr\\Anaconda3\\lib\\json\\__init__.py\u001b[0m in \u001b[0;36mdump\u001b[1;34m(obj, fp, skipkeys, ensure_ascii, check_circular, allow_nan, cls, indent, separators, default, sort_keys, **kw)\u001b[0m\n\u001b[0;32m    178\u001b[0m     \u001b[1;31m# a debuggability cost\u001b[0m\u001b[1;33m\u001b[0m\u001b[1;33m\u001b[0m\u001b[1;33m\u001b[0m\u001b[0m\n\u001b[0;32m    179\u001b[0m     \u001b[1;32mfor\u001b[0m \u001b[0mchunk\u001b[0m \u001b[1;32min\u001b[0m \u001b[0miterable\u001b[0m\u001b[1;33m:\u001b[0m\u001b[1;33m\u001b[0m\u001b[1;33m\u001b[0m\u001b[0m\n\u001b[1;32m--> 180\u001b[1;33m         \u001b[0mfp\u001b[0m\u001b[1;33m.\u001b[0m\u001b[0mwrite\u001b[0m\u001b[1;33m(\u001b[0m\u001b[0mchunk\u001b[0m\u001b[1;33m)\u001b[0m\u001b[1;33m\u001b[0m\u001b[1;33m\u001b[0m\u001b[0m\n\u001b[0m\u001b[0;32m    181\u001b[0m \u001b[1;33m\u001b[0m\u001b[0m\n\u001b[0;32m    182\u001b[0m \u001b[1;33m\u001b[0m\u001b[0m\n",
      "\u001b[1;31mKeyboardInterrupt\u001b[0m: "
     ]
    }
   ],
   "source": [
    "for f in get_files_2:\n",
    "    merge_datasets('coachella_tweets_master_1.json', f)"
   ]
  },
  {
   "cell_type": "code",
   "execution_count": null,
   "metadata": {},
   "outputs": [],
   "source": []
  }
 ],
 "metadata": {
  "kernelspec": {
   "display_name": "Python 3",
   "language": "python",
   "name": "python3"
  },
  "language_info": {
   "codemirror_mode": {
    "name": "ipython",
    "version": 3
   },
   "file_extension": ".py",
   "mimetype": "text/x-python",
   "name": "python",
   "nbconvert_exporter": "python",
   "pygments_lexer": "ipython3",
   "version": "3.7.3"
  }
 },
 "nbformat": 4,
 "nbformat_minor": 2
}
